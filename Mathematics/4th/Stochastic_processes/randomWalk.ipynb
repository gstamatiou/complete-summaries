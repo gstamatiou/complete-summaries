{
 "cells": [
  {
   "cell_type": "code",
   "execution_count": 1,
   "metadata": {},
   "outputs": [],
   "source": [
    "import random"
   ]
  },
  {
   "cell_type": "code",
   "execution_count": 23,
   "metadata": {},
   "outputs": [],
   "source": [
    "N = 10000\n",
    "L =[]\n",
    "L.append((0,0))\n",
    "for i in range(N):\n",
    "    x,y = L[-1]\n",
    "    dx,dy = random.choice([(1,0),(-1,0),(0,1),(0,-1)])\n",
    "    L.append((x + dx,y + dy))\n",
    "# Print L\n",
    "with open(\"Images/data.txt\", 'w') as file:\n",
    "  for i in L:\n",
    "    print(str(i[0]) + \" \" + str(i[1]), file=file)"
   ]
  },
  {
   "cell_type": "code",
   "execution_count": null,
   "metadata": {},
   "outputs": [],
   "source": []
  }
 ],
 "metadata": {
  "kernelspec": {
   "display_name": "Python 3",
   "language": "python",
   "name": "python3"
  },
  "language_info": {
   "codemirror_mode": {
    "name": "ipython",
    "version": 3
   },
   "file_extension": ".py",
   "mimetype": "text/x-python",
   "name": "python",
   "nbconvert_exporter": "python",
   "pygments_lexer": "ipython3",
   "version": "3.10.10"
  },
  "orig_nbformat": 4
 },
 "nbformat": 4,
 "nbformat_minor": 2
}
