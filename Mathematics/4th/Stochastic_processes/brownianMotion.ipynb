{
 "cells": [
  {
   "attachments": {},
   "cell_type": "markdown",
   "metadata": {},
   "source": [
    "### Simulation of Brownian motion"
   ]
  },
  {
   "cell_type": "code",
   "execution_count": 1,
   "metadata": {},
   "outputs": [],
   "source": [
    "import numpy as np"
   ]
  },
  {
   "cell_type": "code",
   "execution_count": 39,
   "metadata": {},
   "outputs": [],
   "source": [
    "n = 7500\n",
    "T = 1\n",
    "times = np.linspace(0, T, n)\n",
    "dt = times[1] - times[0]\n",
    "# we simulate n-1 increments\n",
    "dB = np.random.normal(0, np.sqrt(dt),n - 1)\n",
    "# we add the first value to be 0\n",
    "dB = np.insert(dB, 0, 0)\n",
    "# we build the Brownian motion\n",
    "B = np.cumsum(dB)"
   ]
  },
  {
   "cell_type": "code",
   "execution_count": 40,
   "metadata": {},
   "outputs": [],
   "source": [
    "# Print L\n",
    "with open(\"data/data_bm.txt\", 'w') as file:\n",
    "  for i in range(len(B)):\n",
    "    print(str(i/len(B)) + \" \" + str(B[i]), file=file)\n"
   ]
  },
  {
   "cell_type": "code",
   "execution_count": null,
   "metadata": {},
   "outputs": [],
   "source": []
  }
 ],
 "metadata": {
  "kernelspec": {
   "display_name": "Python 3",
   "language": "python",
   "name": "python3"
  },
  "language_info": {
   "codemirror_mode": {
    "name": "ipython",
    "version": 3
   },
   "file_extension": ".py",
   "mimetype": "text/x-python",
   "name": "python",
   "nbconvert_exporter": "python",
   "pygments_lexer": "ipython3",
   "version": "3.10.10"
  },
  "orig_nbformat": 4
 },
 "nbformat": 4,
 "nbformat_minor": 2
}
